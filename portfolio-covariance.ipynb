{
 "cells": [
  {
   "cell_type": "code",
   "execution_count": 1,
   "metadata": {},
   "outputs": [],
   "source": [
    "import pandas as pd\n",
    "import numpy as np\n",
    "import matplotlib.pyplot as plt # importing required packages"
   ]
  },
  {
   "cell_type": "code",
   "execution_count": 2,
   "metadata": {},
   "outputs": [],
   "source": [
    "n=10\n",
    "returns=np.zeros((n,10)) # creating an array of size (n x 10) with all values ZERO\n",
    "assets=np.zeros((n,10)) # creating another array that will be related to returns array above\n",
    "r_1=np.random.normal(1.01,0.03,10) # creating 10 random numbers with mean 1.01 and a std dev of 0.03 for checking purpose\n",
    "returns[0]=r_1#replacing first row of zeros with the one above. Useful to understand what is happening in this whole excercise\n",
    "assets[0]=np.cumprod(r_1)"
   ]
  },
  {
   "cell_type": "code",
   "execution_count": 3,
   "metadata": {},
   "outputs": [],
   "source": [
    "for i in range(1,n): # a for loop to completely fill returns and assets arrays. \n",
    "    r_i=r_1+np.random.normal(0.001,.02,10) # same as above but we will use this in the calculations later\n",
    "    returns[i]=r_i # will loop through 10 times and fill all rows and columns in returns array\n",
    "    assets[i]=np.cumprod(r_i) # to fillrelated values in the asset array"
   ]
  },
  {
   "cell_type": "code",
   "execution_count": 4,
   "metadata": {},
   "outputs": [
    {
     "data": {
      "text/plain": [
       "[-0.27043537494281233,\n",
       " 0.22787072243626305,\n",
       " -1.5663449542471453,\n",
       " -0.28043156062868,\n",
       " 0.16541448763955913,\n",
       " -0.9753861318344881,\n",
       " -0.6359931068218194,\n",
       " -1.115615351684629,\n",
       " -1.2290635843756226,\n",
       " -1.1047185382455416]"
      ]
     },
     "execution_count": 4,
     "metadata": {},
     "output_type": "execute_result"
    }
   ],
   "source": [
    "mean_ret=[(np.mean(r) - 1)*100 for r in returns] # calculating the mean return using the mean function in numpy through a list \n",
    "mean_ret # comprehension. The result will be a (10 x 1) array, one mean for each row. DONT forget to reduce one in the formula"
   ]
  },
  {
   "cell_type": "code",
   "execution_count": 5,
   "metadata": {},
   "outputs": [
    {
     "data": {
      "text/plain": [
       "[0.03440105868314278,\n",
       " 0.030830903623118834,\n",
       " 0.03178433045505207,\n",
       " 0.024677354339182486,\n",
       " 0.0345735976676144,\n",
       " 0.045307686450604144,\n",
       " 0.03973774943473922,\n",
       " 0.043750742106178096,\n",
       " 0.040834230419105146,\n",
       " 0.046993943528328544]"
      ]
     },
     "execution_count": 5,
     "metadata": {},
     "output_type": "execute_result"
    }
   ],
   "source": [
    "ret_vol = [np.std(r) for r in returns] # calculating std dev of returns using the np.std function in numpy through a list\n",
    "ret_vol # comprehension"
   ]
  },
  {
   "cell_type": "code",
   "execution_count": 6,
   "metadata": {},
   "outputs": [
    {
     "data": {
      "text/plain": [
       "Text(0,0.5,'returns')"
      ]
     },
     "execution_count": 6,
     "metadata": {},
     "output_type": "execute_result"
    },
    {
     "data": {
      "image/png": "[encoded data removed]",
      "text/plain": [
       "<Figure size 432x288 with 1 Axes>"
      ]
     },
     "metadata": {
      "needs_background": "light"
     },
     "output_type": "display_data"
    }
   ],
   "source": [
    "plt.bar(np.arange(len(mean_ret)),mean_ret)# syntax for bar graph. The first argument represents the number of bars required. The \n",
    "plt.xlabel('Stocks')# np.arange function arranges numbers in ascending order. Here the length of array mean_ret is 10 and hence\n",
    "plt.ylabel('returns') # see 0 to ten on x-axis"
   ]
  },
  {
   "cell_type": "code",
   "execution_count": 7,
   "metadata": {},
   "outputs": [],
   "source": [
    "weights=np.random.uniform(0,1,n) # since we will be calculating the std devistion of the portfolio we will need weights. We \n",
    "weights=weights/np.sum(weights)# first create a random numpy array and use formula to calculate weights"
   ]
  },
  {
   "cell_type": "code",
   "execution_count": 8,
   "metadata": {},
   "outputs": [
    {
     "data": {
      "text/plain": [
       "-0.8274260253337347"
      ]
     },
     "execution_count": 8,
     "metadata": {},
     "output_type": "execute_result"
    }
   ],
   "source": [
    "exp_ret=np.dot(weights,mean_ret) #np.dot multiplies two matrices that are in (m x n)&(n x o). We multiply weights with returns\n",
    "exp_ret # to get the expected return. "
   ]
  },
  {
   "cell_type": "code",
   "execution_count": 9,
   "metadata": {},
   "outputs": [
    {
     "data": {
      "text/plain": [
       "array([[0.00131493, 0.00101851, 0.00108942, 0.0006926 , 0.00104921,\n",
       "        0.00136464, 0.0014499 , 0.00148545, 0.00120141, 0.00161314],\n",
       "       [0.00101851, 0.00105616, 0.00080939, 0.00043458, 0.00052658,\n",
       "        0.00082676, 0.00113697, 0.00137182, 0.00087033, 0.00113553],\n",
       "       [0.00108942, 0.00080939, 0.00112249, 0.00049867, 0.00090036,\n",
       "        0.00123669, 0.00121811, 0.00125727, 0.00081344, 0.0013272 ],\n",
       "       [0.0006926 , 0.00043458, 0.00049867, 0.00067664, 0.00053567,\n",
       "        0.00078888, 0.00068999, 0.00061306, 0.00092576, 0.00107824],\n",
       "       [0.00104921, 0.00052658, 0.00090036, 0.00053567, 0.00132815,\n",
       "        0.00127762, 0.00116277, 0.00102066, 0.0008786 , 0.00121058],\n",
       "       [0.00136464, 0.00082676, 0.00123669, 0.00078888, 0.00127762,\n",
       "        0.00228087, 0.00152377, 0.00133943, 0.00101822, 0.00182639],\n",
       "       [0.0014499 , 0.00113697, 0.00121811, 0.00068999, 0.00116277,\n",
       "        0.00152377, 0.00175454, 0.0018095 , 0.00104974, 0.00183552],\n",
       "       [0.00148545, 0.00137182, 0.00125727, 0.00061306, 0.00102066,\n",
       "        0.00133943, 0.0018095 , 0.00212681, 0.00096978, 0.00171666],\n",
       "       [0.00120141, 0.00087033, 0.00081344, 0.00092576, 0.0008786 ,\n",
       "        0.00101822, 0.00104974, 0.00096978, 0.0018527 , 0.00157628],\n",
       "       [0.00161314, 0.00113553, 0.0013272 , 0.00107824, 0.00121058,\n",
       "        0.00182639, 0.00183552, 0.00171666, 0.00157628, 0.00245381]])"
      ]
     },
     "execution_count": 9,
     "metadata": {},
     "output_type": "execute_result"
    }
   ],
   "source": [
    "cov_mat=np.cov(returns) # using the covariance funtion in numpy. Since the original matrix is (10 x 10) the resulting matrix\n",
    "# is (10 x 10)"
   ]
  },
  {
   "cell_type": "code",
   "execution_count": 12,
   "metadata": {},
   "outputs": [],
   "source": [
    "pf_var=np.dot(np.dot(weights,cov_mat),weights.T) # calculating portfolio variance using np.dot. Np.dot is useful in multiplying \n",
    "# two matrices. An understanding of the formula to calculate portfolio variance is required. Also, rules for matrix multiplication\n",
    "# should be through"
   ]
  },
  {
   "cell_type": "code",
   "execution_count": 13,
   "metadata": {},
   "outputs": [
    {
     "data": {
      "text/plain": [
       "0.0012012753711184482"
      ]
     },
     "execution_count": 13,
     "metadata": {},
     "output_type": "execute_result"
    }
   ],
   "source": [
    "pf_var # printing results"
   ]
  },
  {
   "cell_type": "code",
   "execution_count": 15,
   "metadata": {},
   "outputs": [
    {
     "data": {
      "text/plain": [
       "0.03465941965928524"
      ]
     },
     "execution_count": 15,
     "metadata": {},
     "output_type": "execute_result"
    }
   ],
   "source": [
    "pf_std=np.sqrt(pf_var) # Since std dev is square root of variance. We use built-in square root function in numpy\n",
    "pf_std"
   ]
  },
  {
   "cell_type": "code",
   "execution_count": null,
   "metadata": {},
   "outputs": [],
   "source": []
  }
 ],
 "metadata": {
  "kernelspec": {
   "display_name": "Python 3",
   "language": "python",
   "name": "python3"
  },
  "language_info": {
   "codemirror_mode": {
    "name": "ipython",
    "version": 3
   },
   "file_extension": ".py",
   "mimetype": "text/x-python",
   "name": "python",
   "nbconvert_exporter": "python",
   "pygments_lexer": "ipython3",
   "version": "3.7.0"
  }
 },
 "nbformat": 4,
 "nbformat_minor": 2
}
