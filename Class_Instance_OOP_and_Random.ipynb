{
 "cells": [
  {
   "cell_type": "code",
   "execution_count": 2,
   "id": "dab9fa8e",
   "metadata": {},
   "outputs": [],
   "source": [
    "class Employee:\n",
    "    \n",
    "    raise_pct = 1.04\n",
    "    no_of_emp = 0\n",
    "    full_lst = []\n",
    "    \n",
    "    def __init__(self, first, last, pay):\n",
    "        self.first = first\n",
    "        self.last = last\n",
    "        self.pay = pay\n",
    "        #self.raise_pct = 1.05\n",
    "        \n",
    "        Employee.full_lst.append(self.first)\n",
    "        Employee.no_of_emp += 1\n",
    "    \n",
    "    @property\n",
    "    def email(self):\n",
    "        return '{}.{}@company.com'.format(self.first, self.last)\n",
    "    \n",
    "    @property\n",
    "    def fullname(self):\n",
    "        return '{} {}'.format(self.first, self.last)\n",
    "    \n",
    "    @fullname.setter\n",
    "    def fullname(self, name):\n",
    "        first, last = name.split(' ')\n",
    "        self.first = first\n",
    "        self.last = last\n",
    "        \n",
    "    @fullname.deleter\n",
    "    def fullname(self):\n",
    "        print('{} {} was Deleted'.format(self.first, self.last))\n",
    "        self.first = None\n",
    "        self.last = None\n",
    "        self.pay = None\n",
    "    \n",
    "    def apply_raise(self):\n",
    "        self.pay = int(self.pay*self.raise_pct)\n",
    "        return self.pay\n",
    "    \n",
    "    def __add__(self, other):\n",
    "        return self.pay + other.pay\n",
    "    \n",
    "    def __repr__(self):\n",
    "        return '{} {}'.format(self.first, self.last)\n",
    "    \n",
    "    def __str__(self):\n",
    "        return '{} - {}'.format(self.first, self.last)\n",
    "    \n",
    "    def append(self,other):\n",
    "        return [self.first, other.first]\n",
    "    \n",
    "    def __len__(self):\n",
    "        return len(self.fullname())\n",
    "    \n",
    "    @classmethod\n",
    "    def from_string(cls, emp_str):\n",
    "        first, last, pay = emp_str.split('-')\n",
    "        return cls(first,last,pay)\n",
    "    \n",
    "    @classmethod\n",
    "    def set_raise_pct(cls, pct):\n",
    "        cls.raise_pct = pct\n",
    "        \n",
    "class Developer(Employee):\n",
    "    raise_amt = 1.10\n",
    "    \n",
    "    def __init__(self, first, last, pay, prog_lang):\n",
    "        super().__init__(first, last, pay)\n",
    "        #Employee.__init__(self, first, last, pay)\n",
    "        self.prog_lang = prog_lang\n",
    "        \n",
    "class Manager(Employee):\n",
    "    \n",
    "    def __init__(self, first, last, pay, emp_lst = None):\n",
    "        super().__init__(first, last, pay)\n",
    "        if emp_lst == None:\n",
    "            self.emp_lst = []\n",
    "        else:\n",
    "            self.emp_lst = emp_lst\n",
    "            \n",
    "    def add_emp(self, emp):\n",
    "        if emp not in self.emp_lst:\n",
    "            self.emp_lst.append(emp)\n",
    "            \n",
    "    def remove_emp(self, emp):\n",
    "        if emp in emp_lst:\n",
    "            self.emp_lst.remove(emp)\n",
    "            \n",
    "    def print_emp_fullname(self):\n",
    "        for i in self.emp_lst:\n",
    "            print('-->', i.fullname)"
   ]
  },
  {
   "cell_type": "code",
   "execution_count": 3,
   "id": "08a3db87",
   "metadata": {},
   "outputs": [],
   "source": [
    "emp_1 = Employee('Ram', 'Avatar', 50000)\n",
    "emp_2 = Employee('Laxman', 'Bala', 60000)\n",
    "dev_1 = Developer('User', 'One', 70000, 'SQL')\n",
    "dev_2 = Developer('User', 'Two', 80000, 'python')\n",
    "mgr_1 = Manager('Krishna', 'Swami', 90000, [emp_1, dev_2])"
   ]
  },
  {
   "cell_type": "code",
   "execution_count": 10,
   "id": "607b9381",
   "metadata": {},
   "outputs": [
    {
     "data": {
      "text/plain": [
       "[Ram Avatar, User Two]"
      ]
     },
     "execution_count": 10,
     "metadata": {},
     "output_type": "execute_result"
    }
   ],
   "source": [
    "mgr_1.emp_lst"
   ]
  },
  {
   "cell_type": "code",
   "execution_count": 10,
   "id": "883adcbc",
   "metadata": {},
   "outputs": [
    {
     "data": {
      "text/plain": [
       "'Ajay Devgan'"
      ]
     },
     "execution_count": 10,
     "metadata": {},
     "output_type": "execute_result"
    }
   ],
   "source": [
    "#del emp_1.fullname\n",
    "emp_1.fullname"
   ]
  },
  {
   "cell_type": "code",
   "execution_count": 13,
   "id": "9b7bdce3",
   "metadata": {},
   "outputs": [
    {
     "name": "stdout",
     "output_type": "stream",
     "text": [
      "--> Ajay Devgan\n",
      "--> test user\n"
     ]
    }
   ],
   "source": [
    "mgr_1 = Manager('huz', 'attr', 10000, [emp_1,dev_1])\n",
    "mgr_1.print_emp_fullname()"
   ]
  },
  {
   "cell_type": "code",
   "execution_count": 38,
   "id": "f3b7bebf",
   "metadata": {},
   "outputs": [
    {
     "name": "stdout",
     "output_type": "stream",
     "text": [
      "1.07\n",
      "1.07\n"
     ]
    }
   ],
   "source": [
    "from pandas import Series, DataFrame\n",
    "Employee.set_raise_pct(1.07)\n",
    "print(emp_2.raise_pct)\n",
    "print(Employee.raise_pct)"
   ]
  },
  {
   "cell_type": "code",
   "execution_count": 57,
   "id": "b9ac8455",
   "metadata": {},
   "outputs": [
    {
     "data": {
      "text/plain": [
       "Employee Ajay Devgan 60000"
      ]
     },
     "execution_count": 57,
     "metadata": {},
     "output_type": "execute_result"
    }
   ],
   "source": [
    "emp_str_1 = 'john-doe-90000'\n",
    "new_emp = Employee.from_string(emp_str_1)\n",
    "new_emp.first\n",
    "emp_1 #ths is like a container so dont expect it to give all details of emp_1"
   ]
  },
  {
   "cell_type": "code",
   "execution_count": 52,
   "id": "ec8b2b97",
   "metadata": {},
   "outputs": [
    {
     "data": {
      "text/plain": [
       "7"
      ]
     },
     "execution_count": 52,
     "metadata": {},
     "output_type": "execute_result"
    }
   ],
   "source": [
    "import datetime as dt\n",
    "test=dt.date(2022, 7, 26)\n",
    "test.month"
   ]
  },
  {
   "cell_type": "code",
   "execution_count": 6,
   "id": "bfaa336a",
   "metadata": {},
   "outputs": [
    {
     "data": {
      "text/plain": [
       "[(1, 'a'), (2, 'b'), (3, 'c'), (4, 'd'), (6, 'e')]"
      ]
     },
     "execution_count": 6,
     "metadata": {},
     "output_type": "execute_result"
    }
   ],
   "source": [
    "lst = [1,2,3,4,6]\n",
    "tup = ['a', 'b', 'c', 'd', 'e']\n",
    "list(zip(lst,tup))"
   ]
  },
  {
   "cell_type": "code",
   "execution_count": 1,
   "id": "db40c9d8",
   "metadata": {},
   "outputs": [],
   "source": [
    "def gcd(a, b):\n",
    "    # Define the while loop as described\n",
    "    while b != 0:\n",
    "        temp_a = a\n",
    "        a = b\n",
    "        b = temp_a % b   \n",
    "    # Complete the return statement\n",
    "    return a"
   ]
  },
  {
   "cell_type": "code",
   "execution_count": 2,
   "id": "1f4ae6ce",
   "metadata": {},
   "outputs": [
    {
     "data": {
      "text/plain": [
       "1"
      ]
     },
     "execution_count": 2,
     "metadata": {},
     "output_type": "execute_result"
    }
   ],
   "source": [
    "gcd(5,7)"
   ]
  },
  {
   "cell_type": "code",
   "execution_count": 24,
   "id": "56a42e08",
   "metadata": {},
   "outputs": [],
   "source": [
    "def shift_string(string, shift):\n",
    "    len_string = len(string)\n",
    "    # Loop over the indices of a string\n",
    "    for idx in range(0, len_string):\n",
    "        # Find which character will correspond to the index.\n",
    "        yield string[(idx - shift) % len_string]\n",
    "       \n",
    "# Create a generator\n",
    "gen = shift_string('DataCamp', 3)"
   ]
  },
  {
   "cell_type": "code",
   "execution_count": 25,
   "id": "3b39f149",
   "metadata": {},
   "outputs": [
    {
     "data": {
      "text/plain": [
       "'a'"
      ]
     },
     "execution_count": 25,
     "metadata": {},
     "output_type": "execute_result"
    }
   ],
   "source": [
    "next(gen)"
   ]
  },
  {
   "cell_type": "code",
   "execution_count": 50,
   "id": "2345b55c",
   "metadata": {},
   "outputs": [],
   "source": [
    "def simulate_dice_throws():\n",
    "    total, out = 0, dict([(i, [0, 0]) for i in range(1, 7)])\n",
    "    while True:\n",
    "        # Simulate a single toss to get a new number\n",
    "        num = randint(1, 6)\n",
    "        total += 1\n",
    "        # Update the number and the ratio of realizations\n",
    "        out[num][0] = out[num][0] + 1\n",
    "        for j in range(1, 7):\n",
    "            out[j][1] = round(out[j][0]/total, 2)\n",
    "        # Yield the updated dictionary\n",
    "        yield out"
   ]
  },
  {
   "cell_type": "code",
   "execution_count": 36,
   "id": "0d05ae17",
   "metadata": {},
   "outputs": [],
   "source": [
    "from random import randint"
   ]
  },
  {
   "cell_type": "code",
   "execution_count": 59,
   "id": "156af2cd",
   "metadata": {},
   "outputs": [
    {
     "name": "stdout",
     "output_type": "stream",
     "text": [
      "{1: [0, 0.0], 2: [0, 0.0], 3: [1, 1.0], 4: [0, 0.0], 5: [0, 0.0], 6: [0, 0.0]}\n",
      "{1: [0, 0.0], 2: [0, 0.0], 3: [1, 1.0], 4: [0, 0.0], 5: [0, 0.0], 6: [0, 0.0]}\n",
      "{1: [0, 0.0], 2: [0, 0.0], 3: [0, 0.0], 4: [0, 0.0], 5: [1, 1.0], 6: [0, 0.0]}\n",
      "{1: [0, 0.0], 2: [1, 1.0], 3: [0, 0.0], 4: [0, 0.0], 5: [0, 0.0], 6: [0, 0.0]}\n",
      "{1: [0, 0.0], 2: [0, 0.0], 3: [1, 1.0], 4: [0, 0.0], 5: [0, 0.0], 6: [0, 0.0]}\n"
     ]
    }
   ],
   "source": [
    "for i in range(5):\n",
    "    print(next(simulate_dice_throws()))"
   ]
  },
  {
   "cell_type": "code",
   "execution_count": 63,
   "id": "6e1323f3",
   "metadata": {},
   "outputs": [],
   "source": [
    "def func1(n):\n",
    "  for i in range(0, n):\n",
    "    yield i**2\n",
    "def func2(n):\n",
    "  for i in range(0, n):\n",
    "     if i%2 == 0:\n",
    "       yield 2*i\n",
    "def func3(n, m):\n",
    "  for i in func1(n):\n",
    "    for j in func2(m):\n",
    "      yield ((i, j), i + j)"
   ]
  },
  {
   "cell_type": "code",
   "execution_count": 70,
   "id": "ff14ac9d",
   "metadata": {},
   "outputs": [],
   "source": [
    "gen = func3(2,4)"
   ]
  },
  {
   "cell_type": "code",
   "execution_count": 71,
   "id": "df253eeb",
   "metadata": {},
   "outputs": [
    {
     "name": "stdout",
     "output_type": "stream",
     "text": [
      "(((0, 0), 0), ((0, 0), 0))\n",
      "(((0, 4), 4), ((0, 4), 4))\n",
      "(((1, 0), 1), ((1, 0), 1))\n",
      "(((1, 4), 5), ((1, 4), 5))\n"
     ]
    }
   ],
   "source": [
    "for item in zip(gen, func3(2, 4)):\n",
    "    print(item)"
   ]
  },
  {
   "cell_type": "code",
   "execution_count": 30,
   "id": "28ba08fd",
   "metadata": {},
   "outputs": [
    {
     "name": "stdout",
     "output_type": "stream",
     "text": [
      "63000\n"
     ]
    }
   ],
   "source": [
    "print(emp_1.apply_raise())"
   ]
  },
  {
   "cell_type": "code",
   "execution_count": null,
   "id": "abe193d0",
   "metadata": {},
   "outputs": [],
   "source": []
  }
 ],
 "metadata": {
  "kernelspec": {
   "display_name": "Python 3",
   "language": "python",
   "name": "python3"
  },
  "language_info": {
   "codemirror_mode": {
    "name": "ipython",
    "version": 3
   },
   "file_extension": ".py",
   "mimetype": "text/x-python",
   "name": "python",
   "nbconvert_exporter": "python",
   "pygments_lexer": "ipython3",
   "version": "3.8.8"
  }
 },
 "nbformat": 4,
 "nbformat_minor": 5
}
